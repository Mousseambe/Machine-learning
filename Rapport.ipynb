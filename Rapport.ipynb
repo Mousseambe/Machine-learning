{
 "cells": [
  {
   "cell_type": "markdown",
   "id": "fada6501",
   "metadata": {},
   "source": [
    "# Prédiction des maladies cardiaques"
   ]
  },
  {
   "cell_type": "markdown",
   "id": "9a25a7ae",
   "metadata": {},
   "source": [
    "##  1.          Présentation de la problématique"
   ]
  },
  {
   "cell_type": "markdown",
   "id": "36c6d6ad",
   "metadata": {},
   "source": [
    "Le cœur est l'un des principaux organes de notre corps. Nous souffrons souvent de diverses maladies cardiaques telles que la maladie coronarienne.\n",
    "De nombreux chercheurs travaillent sur les algorithmes d'apprentissage automatique pour le diagnostic des maladies cardiaques. C'est une question de recherche très brûlante dans le monde entier. Un système automatisé de diagnostic des maladies cardiaques est l'un des avantages les plus remarquables de l'apprentissage automatique dans le domaine de la santé.\n",
    "\n",
    "Il y a environ deux témoins par cas de coronaropathie (maladie cardiaque qui fait que le flux sanguin vers le myocarde est insuffisant). Beaucoup d'hommes atteints de cette maladie ont suivi un traitement de réduction de la pression artérielle ainsi que d'autres programmes. Dans certains cas, les mesures ont été effectuées après ces traitements."
   ]
  },
  {
   "cell_type": "markdown",
   "id": "c22cb583",
   "metadata": {},
   "source": [
    "## 2.   Etat de l’art"
   ]
  },
  {
   "cell_type": "markdown",
   "id": "366dcc61",
   "metadata": {},
   "source": [
    "L’IA peut dénicher le danger de survenue d’une crise cardiaque. Les chercheurs travaillent sur plusieurs algorithmes d'apprentissage automatique supervisés, tels que Support Vector Machine (SVM) ou Naive Bayes ou K Nearest Neighbors(KNN) ou Artificial Neural Network(ANN), à utiliser comme algorithme d'apprentissage pour la détection des maladies cardiaques.\n",
    "\n",
    "KNN est l'algorithme d'apprentissage automatique le plus élémentaire à paramétrer et à mettre en œuvre, il serait probablement surpassé par SVM en raison de la petite taille des données d'entraînement. Il a également été observé que les ANN étaient limités par des données de informations insuffisantes. Cependant, KNN fait le moins d'hypothèses concernant les données, à part le fait que des données d'entraînement précises doivent former des clusters relativement discrets. ANN et SVM sont notoirement difficiles à paramétrer, surtout si on souhaite répéter le processus en utilisant plusieurs ensembles de données et se baser sur certaines hypothèses, telles que le fait que les données sont linéairement séparables (SVM).\n",
    "\n",
    "Cet état de l'art parvient d'un article publié par Jean Pierre Laroche au JMV-Journal de Médecine Vasculaire sous le thème \"Intelligence artificielle en médecine vasculaire\" et Ciksiti:\n",
    "https://ciksiti.com/fr/chapters/5775-top-10-potential-applications-of-machine-learning-in-healthc\n",
    "\n",
    "https://www.sciencedirect.com/science/article/abs/pii/S2542451322000086\n",
    "\n"
   ]
  },
  {
   "cell_type": "markdown",
   "id": "7c8755d8",
   "metadata": {},
   "source": [
    "### Pour ce qui est de la phase 2, veuillez trouver, Madame, tous les détails sur le document jupyter notebook portant le code d'implémentation."
   ]
  }
 ],
 "metadata": {
  "kernelspec": {
   "display_name": "Python 3 (ipykernel)",
   "language": "python",
   "name": "python3"
  },
  "language_info": {
   "codemirror_mode": {
    "name": "ipython",
    "version": 3
   },
   "file_extension": ".py",
   "mimetype": "text/x-python",
   "name": "python",
   "nbconvert_exporter": "python",
   "pygments_lexer": "ipython3",
   "version": "3.9.7"
  }
 },
 "nbformat": 4,
 "nbformat_minor": 5
}
